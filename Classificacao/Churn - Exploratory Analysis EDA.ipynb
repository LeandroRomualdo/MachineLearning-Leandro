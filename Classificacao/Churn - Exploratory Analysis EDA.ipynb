{
 "cells": [
  {
   "cell_type": "markdown",
   "metadata": {},
   "source": [
    "## Exploratory Analysis - EDA"
   ]
  },
  {
   "cell_type": "markdown",
   "metadata": {},
   "source": [
    "## Dataset \n",
    "\n",
    "\n",
    "This dataset usage for Kaggle InClass Competition Telecom Churn Analytics. \n",
    "\n",
    "\n",
    "The dataset used of this coding,you can downloading in this link.\n",
    "\n",
    "https://www.kaggle.com/c/churn-analytics-bda\n",
    "\n",
    "Links:\n",
    "\n",
    "https://www.vooo.pro/insights/um-tutorial-completo-sobre-a-modelagem-baseada-em-tree-arvore-do-zero-em-r-python/\n",
    "https://www.analyticsvidhya.com/blog/2016/03/complete-guide-parameter-tuning-xgboost-with-codes-python/\n",
    "\n",
    "https://www.analyticsvidhya.com/blog/2016/02/complete-guide-parameter-tuning-gradient-boosting-gbm-python/\n",
    "    "
   ]
  },
  {
   "cell_type": "code",
   "execution_count": null,
   "metadata": {},
   "outputs": [],
   "source": [
    "import pandas as pd\n",
    "import matplotlib.pyplot as plt\n",
    "import numpy as np\n",
    "import scipy as sc\n",
    "import warnings \n",
    "import plotly as py\n",
    "from matplotlib import pyplot\n",
    "import seaborn as sns\n",
    "import missingno as msno\n",
    "from scipy.cluster.hierarchy import dendrogram, linkage\n",
    "from sklearn.cluster import KMeans\n",
    "from sklearn.decomposition import PCA\n",
    "import somoclu\n",
    "from pandas.tools.plotting import scatter_matrix\n",
    "\n",
    "warnings.simplefilter(\"ignore\")\n",
    "%matplotlib inline"
   ]
  },
  {
   "cell_type": "code",
   "execution_count": null,
   "metadata": {},
   "outputs": [],
   "source": [
    "train = pd.read_csv('Datasets/churnTrain.csv')\n",
    "test = pd.read_csv('Datasets/churnTest.csv')"
   ]
  },
  {
   "cell_type": "code",
   "execution_count": null,
   "metadata": {},
   "outputs": [],
   "source": [
    "# Adiciona coluna Churn no dataset de teste para poder fazer merge entre os dois.\n",
    "test['Churn'] = 'TESTE'\n",
    "dataframes = [train, test]\n",
    "churnData = pd.concat(dataframes) "
   ]
  },
  {
   "cell_type": "markdown",
   "metadata": {},
   "source": [
    "#### Null and Nan values treatment. \n",
    " Applied mean in numerical variables and 'no' in variables Voice Mail Plan and International Plan.\n",
    " \n",
    " Quantity null and NaN data in datasets."
   ]
  },
  {
   "cell_type": "code",
   "execution_count": null,
   "metadata": {},
   "outputs": [],
   "source": [
    "msno.matrix(churnData, figsize=(18,4))"
   ]
  },
  {
   "cell_type": "code",
   "execution_count": null,
   "metadata": {},
   "outputs": [],
   "source": [
    "print(churnData.isnull().sum())"
   ]
  },
  {
   "cell_type": "markdown",
   "metadata": {},
   "source": [
    "### Feature Engineering "
   ]
  },
  {
   "cell_type": "code",
   "execution_count": null,
   "metadata": {},
   "outputs": [],
   "source": [
    "churnData['Voice_Mail_Plan'].fillna(' no',inplace=True)\n",
    "churnData['International_Plan'].fillna(' no',inplace=True)\n",
    "churnData['Account_Length'].fillna(churnData['Account_Length'].mean(),inplace=True)\n",
    "churnData['Total_Night_Minutes'].fillna(churnData['Total_Night_Minutes'].mean(),inplace=True)\n",
    "churnData['Total_Intl_Calls'].fillna(churnData['Total_Intl_Calls'].mean(),inplace=True)\n",
    "churnData['Total_Night_Charge'].fillna(churnData['Total_Night_Charge'].mean(),inplace=True)\n",
    "churnData['Total_Night_Calls'].fillna(churnData['Total_Night_Calls'].mean(),inplace=True)\n",
    "churnData['Total_Night_Minutes'].fillna(churnData['Total_Night_Minutes'].mean(),inplace=True)\n",
    "churnData['Total_Eve_Charge'].fillna(churnData['Total_Eve_Charge'].mean(),inplace=True)\n",
    "churnData['Total_Eve_Calls'].fillna(churnData['Total_Eve_Calls'].mean(),inplace=True)\n",
    "churnData['Total_Eve_Minutes'].fillna(churnData['Total_Eve_Minutes'].mean(),inplace=True)\n",
    "churnData['Total_Day_charge'].fillna(churnData['Total_Day_charge'].mean(),inplace=True)\n",
    "churnData['Total_Day_Calls'].fillna(churnData['Total_Day_Calls'].mean(),inplace=True)\n",
    "churnData['Total_Day_minutes'].fillna(churnData['Total_Day_minutes'].mean(),inplace=True)"
   ]
  },
  {
   "cell_type": "code",
   "execution_count": null,
   "metadata": {},
   "outputs": [],
   "source": [
    "churnData['Churn'] = churnData['Churn'].astype('category')\n",
    "churnData['State'] = churnData['State'].astype('category')\n",
    "churnData['Voice_Mail_Plan'] = churnData['Voice_Mail_Plan'].astype('category')\n",
    "churnData['International_Plan'] = churnData['International_Plan'].astype('category')\n",
    "\n",
    "churnData['Churn'] = churnData['Churn'].cat.codes\n",
    "churnData['State_cat'] = churnData['State'].cat.codes"
   ]
  },
  {
   "cell_type": "markdown",
   "metadata": {},
   "source": [
    "#### One Hot Enconding - OHE"
   ]
  },
  {
   "cell_type": "code",
   "execution_count": null,
   "metadata": {},
   "outputs": [],
   "source": [
    "cols_to_transform = ['International_Plan','Voice_Mail_Plan']\n",
    "churnData = pd.get_dummies(churnData, columns=cols_to_transform)"
   ]
  },
  {
   "cell_type": "code",
   "execution_count": null,
   "metadata": {},
   "outputs": [],
   "source": [
    "## Train and test separated again\n",
    "churnData = churnData[['Account_Length','Area_Code','Phone_No','No_Vmail_Messages','Total_Day_minutes','Total_Day_Calls',\n",
    "                      'Total_Day_charge','Total_Night_Calls','Total_Night_Charge','Total_Intl_Minutes','Total_Intl_Calls',\n",
    "                      'Total_Intl_Charge','No_CS_Calls','State_cat','Voice_Mail_Plan_ no','Voice_Mail_Plan_ yes',\n",
    "                       'International_Plan_ no','International_Plan_ yes','Churn']]"
   ]
  },
  {
   "cell_type": "code",
   "execution_count": null,
   "metadata": {},
   "outputs": [],
   "source": [
    "churnData.columns = ['Account_Length','Area_Code','Phone_No','No_Vmail_Messages','Total_Day_minutes','Total_Day_Calls',\n",
    "                    'Total_Day_charge','Total_Night_Calls','Total_Night_Charge','Total_Intl_Minutes','Total_Intl_Calls',\n",
    "                    'Total_Intl_Charge','No_CS_Calls','State_cat','Voice_Mail_Plan_no','Voice_Mail_Plan_yes',\n",
    "                    'International_Plan_no','International_Plan_yes','Churn']"
   ]
  },
  {
   "cell_type": "markdown",
   "metadata": {},
   "source": [
    "### Exploratoty Analysis - EDA"
   ]
  },
  {
   "cell_type": "code",
   "execution_count": null,
   "metadata": {},
   "outputs": [],
   "source": [
    "sns.countplot(train['Churn'])"
   ]
  },
  {
   "cell_type": "markdown",
   "metadata": {},
   "source": [
    "#### Distribution Plots"
   ]
  },
  {
   "cell_type": "code",
   "execution_count": null,
   "metadata": {},
   "outputs": [],
   "source": [
    "fig = plt.figure(figsize=(16,16))\n",
    "\n",
    "p1 = fig.add_subplot(521)\n",
    "p1 = sns.distplot(churnData['Total_Day_minutes'])\n",
    "\n",
    "p2 = fig.add_subplot(522)\n",
    "p2 = sns.distplot(churnData['Area_Code'])\n",
    "\n",
    "p3 = fig.add_subplot(523)\n",
    "p3 = sns.distplot(churnData['Total_Day_minutes'])\n",
    "\n",
    "p4 = fig.add_subplot(524)\n",
    "p4 = sns.distplot(churnData['Total_Day_Calls'])\n",
    "\n",
    "p5 = fig.add_subplot(525)\n",
    "p5 = sns.distplot(churnData['Total_Day_charge'])\n",
    "\n",
    "p6 = fig.add_subplot(526)\n",
    "p5 = sns.distplot(churnData['Total_Night_Calls'])\n",
    "\n",
    "p7 = fig.add_subplot(527)\n",
    "p7 = sns.distplot(churnData['Total_Night_Charge'])\n",
    "\n",
    "p8 = fig.add_subplot(528)\n",
    "p8 = sns.distplot(churnData['Total_Intl_Minutes'])\n",
    "\n",
    "p9 = fig.add_subplot(529)\n",
    "p9 = sns.distplot(churnData['Total_Intl_Calls'])\n",
    "\n",
    "p0 = fig.add_subplot(520)\n",
    "p0 = sns.distplot(churnData['Total_Intl_Charge'])\n",
    "\n",
    "plt.tight_layout()\n",
    "fig = plt.gcf()"
   ]
  },
  {
   "cell_type": "markdown",
   "metadata": {},
   "source": [
    "#### Correlation plot"
   ]
  },
  {
   "cell_type": "code",
   "execution_count": null,
   "metadata": {},
   "outputs": [],
   "source": [
    "corr = churnData\n",
    "mask=np.zeros_like(corr, dtype=np.bool)\n",
    "mask[np.triu_indices_from(mask)]=True\n",
    "f, ax = plt.subplots(figsize=(16,12))\n",
    "cmap=sns.diverging_palette(220, 10, as_cmap=True)\n",
    "sns.heatmap(corr, mask=mask, cmap =cmap, vmax=1, vmin=-1, center=0, square=True, linewidth=.5,cbar_kws={\"shrink\":.5})\n",
    "f.savefig('myimage.png', format='png', dpi=1200)\n",
    "corr = churnData.corr()\n",
    "sns.heatmap(corr, mask=np.zeros_like(corr, dtype=np.bool), cmap=sns.diverging_palette(220,10,as_cmap=True), square=True, ax=ax)"
   ]
  },
  {
   "cell_type": "markdown",
   "metadata": {},
   "source": [
    "#### Hierarquical Clustering Dendogram"
   ]
  },
  {
   "cell_type": "code",
   "execution_count": null,
   "metadata": {},
   "outputs": [],
   "source": [
    "data_NumberClusters = churnData\n",
    "data = linkage(data_NumberClusters, 'ward')\n",
    "plt.title('Hierarchical Clustering Dendrogram (truncated)')\n",
    "plt.xlabel('Observations')\n",
    "plt.ylabel('Distance')\n",
    "dendrogram(\n",
    "data,\n",
    "truncate_mode='lastp',\n",
    "p=12,\n",
    "show_leaf_counts='Flase',\n",
    "leaf_rotation=90.,\n",
    "leaf_font_size=12.,\n",
    "show_contracted='Ture',)\n",
    "plt.show()"
   ]
  },
  {
   "cell_type": "markdown",
   "metadata": {},
   "source": [
    "#### Density"
   ]
  },
  {
   "cell_type": "code",
   "execution_count": null,
   "metadata": {},
   "outputs": [],
   "source": [
    "churnData.plot(kind='density',subplots=True,layout=(5,5), sharex=False, figsize=(16,16))\n",
    "plt.show()"
   ]
  },
  {
   "cell_type": "code",
   "execution_count": null,
   "metadata": {},
   "outputs": [],
   "source": []
  }
 ],
 "metadata": {
  "kernelspec": {
   "display_name": "Python 3",
   "language": "python",
   "name": "python3"
  },
  "language_info": {
   "codemirror_mode": {
    "name": "ipython",
    "version": 3
   },
   "file_extension": ".py",
   "mimetype": "text/x-python",
   "name": "python",
   "nbconvert_exporter": "python",
   "pygments_lexer": "ipython3",
   "version": "3.7.0"
  }
 },
 "nbformat": 4,
 "nbformat_minor": 2
}
