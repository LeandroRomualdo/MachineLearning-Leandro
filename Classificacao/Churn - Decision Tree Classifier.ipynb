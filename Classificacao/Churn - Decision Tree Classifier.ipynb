{
 "cells": [
  {
   "cell_type": "markdown",
   "metadata": {},
   "source": [
    "# Simple Decision Tree Model"
   ]
  },
  {
   "cell_type": "code",
   "execution_count": 4,
   "metadata": {},
   "outputs": [
    {
     "data": {
      "text/html": [
       "<img src=\"https://www.analyticsvidhya.com/wp-content/uploads/2016/04/dt.png\"/>"
      ],
      "text/plain": [
       "<IPython.core.display.Image object>"
      ]
     },
     "execution_count": 4,
     "metadata": {},
     "output_type": "execute_result"
    }
   ],
   "source": [
    "Image(url='https://www.analyticsvidhya.com/wp-content/uploads/2016/04/dt.png')\n",
    "# Credits Image Analyticsvidhya"
   ]
  },
  {
   "cell_type": "markdown",
   "metadata": {},
   "source": [
    "## Dataset\n",
    "This dataset usage for Kaggle InClass Competition Telecom Churn Analytics.\n",
    "\n",
    "The dataset used of this coding,you can downloading in this link.\n",
    "\n",
    "https://www.kaggle.com/c/churn-analytics-bda"
   ]
  },
  {
   "cell_type": "markdown",
   "metadata": {},
   "source": [
    "###### Import Libraries"
   ]
  },
  {
   "cell_type": "code",
   "execution_count": 21,
   "metadata": {},
   "outputs": [],
   "source": [
    "import pandas as pd\n",
    "import matplotlib.pyplot as plt\n",
    "import numpy as np\n",
    "import scipy as sc\n",
    "import warnings\n",
    "from sklearn.model_selection import train_test_split\n",
    "from sklearn.datasets import make_classification\n",
    "from sklearn.ensemble import ExtraTreesClassifier\n",
    "from sklearn import cross_validation,metrics\n",
    "from sklearn.metrics import classification_report, confusion_matrix,roc_curve,auc\n",
    "from IPython.display import Image\n",
    "from IPython.core.display import HTML \n",
    "\n",
    "warnings.simplefilter(\"ignore\")\n",
    "%matplotlib inline"
   ]
  },
  {
   "cell_type": "code",
   "execution_count": 5,
   "metadata": {},
   "outputs": [],
   "source": [
    "train = pd.read_csv('Datasets/churnTrain.csv')\n",
    "test = pd.read_csv('Datasets/churnTest.csv')"
   ]
  },
  {
   "cell_type": "code",
   "execution_count": 6,
   "metadata": {},
   "outputs": [],
   "source": [
    "# Adiciona coluna Churn no dataset de teste para poder fazer merge entre os dois.\n",
    "test['Churn'] = 'TESTE'\n",
    "dataframes = [train, test]\n",
    "churnData = pd.concat(dataframes) "
   ]
  },
  {
   "cell_type": "markdown",
   "metadata": {},
   "source": [
    "#### Feature Engineering"
   ]
  },
  {
   "cell_type": "markdown",
   "metadata": {},
   "source": [
    "N/A treatment, applied mean values in N/A columns."
   ]
  },
  {
   "cell_type": "code",
   "execution_count": 7,
   "metadata": {},
   "outputs": [],
   "source": [
    "churnData['Voice_Mail_Plan'].fillna(' no',inplace=True)\n",
    "churnData['International_Plan'].fillna(' no',inplace=True)\n",
    "churnData['Account_Length'].fillna(churnData['Account_Length'].mean(),inplace=True)\n",
    "churnData['Total_Night_Minutes'].fillna(churnData['Total_Night_Minutes'].mean(),inplace=True)\n",
    "churnData['Total_Intl_Calls'].fillna(churnData['Total_Intl_Calls'].mean(),inplace=True)\n",
    "churnData['Total_Night_Charge'].fillna(churnData['Total_Night_Charge'].mean(),inplace=True)\n",
    "churnData['Total_Night_Calls'].fillna(churnData['Total_Night_Calls'].mean(),inplace=True)\n",
    "churnData['Total_Night_Minutes'].fillna(churnData['Total_Night_Minutes'].mean(),inplace=True)\n",
    "churnData['Total_Eve_Charge'].fillna(churnData['Total_Eve_Charge'].mean(),inplace=True)\n",
    "churnData['Total_Eve_Calls'].fillna(churnData['Total_Eve_Calls'].mean(),inplace=True)\n",
    "churnData['Total_Eve_Minutes'].fillna(churnData['Total_Eve_Minutes'].mean(),inplace=True)\n",
    "churnData['Total_Day_charge'].fillna(churnData['Total_Day_charge'].mean(),inplace=True)\n",
    "churnData['Total_Day_Calls'].fillna(churnData['Total_Day_Calls'].mean(),inplace=True)\n",
    "churnData['Total_Day_minutes'].fillna(churnData['Total_Day_minutes'].mean(),inplace=True)"
   ]
  },
  {
   "cell_type": "code",
   "execution_count": 8,
   "metadata": {},
   "outputs": [],
   "source": [
    "churnData['Churn'] = churnData['Churn'].astype('category')\n",
    "churnData['State'] = churnData['State'].astype('category')\n",
    "churnData['Voice_Mail_Plan'] = churnData['Voice_Mail_Plan'].astype('category')\n",
    "churnData['International_Plan'] = churnData['International_Plan'].astype('category')\n",
    "\n",
    "churnData['Churn'] = churnData['Churn'].cat.codes\n",
    "churnData['State_cat'] = churnData['State'].cat.codes"
   ]
  },
  {
   "cell_type": "markdown",
   "metadata": {},
   "source": [
    "##### One Hot Enconding - OHE"
   ]
  },
  {
   "cell_type": "code",
   "execution_count": 9,
   "metadata": {},
   "outputs": [],
   "source": [
    "cols_to_transform = ['International_Plan','Voice_Mail_Plan']\n",
    "churnData = pd.get_dummies(churnData, columns=cols_to_transform)"
   ]
  },
  {
   "cell_type": "markdown",
   "metadata": {},
   "source": [
    "##### Train and test Split"
   ]
  },
  {
   "cell_type": "code",
   "execution_count": 10,
   "metadata": {},
   "outputs": [],
   "source": [
    "## Train and test separated again\n",
    "churnData = churnData[['Account_Length','Area_Code','Phone_No','No_Vmail_Messages','Total_Day_minutes','Total_Day_Calls',\n",
    "                      'Total_Day_charge','Total_Night_Calls','Total_Night_Charge','Total_Intl_Minutes','Total_Intl_Calls',\n",
    "                      'Total_Intl_Charge','No_CS_Calls','State_cat','Voice_Mail_Plan_ no','Voice_Mail_Plan_ yes',\n",
    "                       'International_Plan_ no','International_Plan_ yes','Churn']]\n",
    "\n",
    "\n",
    "churnTrain = churnData.query('Churn!=2')\n",
    "churnTest = churnData.query('Churn ==2')\n",
    "churnTest.drop('Churn', axis=1)\n",
    "\n",
    "\n",
    "\n",
    "Y = pd.factorize(churnTrain['Churn'].values)[0].reshape(-1,1)\n",
    "X = churnTrain.drop('Churn',axis=1)\n",
    "\n",
    "X_train, X_test, y_train, y_test = train_test_split(X,Y, test_size=0.33, random_state=42)"
   ]
  },
  {
   "cell_type": "code",
   "execution_count": 11,
   "metadata": {},
   "outputs": [],
   "source": [
    "churnData.columns = ['Account_Length','Area_Code','Phone_No','No_Vmail_Messages','Total_Day_minutes','Total_Day_Calls',\n",
    "                    'Total_Day_charge','Total_Night_Calls','Total_Night_Charge','Total_Intl_Minutes','Total_Intl_Calls',\n",
    "                    'Total_Intl_Charge','No_CS_Calls','State_cat','Voice_Mail_Plan_no','Voice_Mail_Plan_yes',\n",
    "                    'International_Plan_no','International_Plan_yes','Churn']"
   ]
  },
  {
   "cell_type": "code",
   "execution_count": 29,
   "metadata": {},
   "outputs": [],
   "source": [
    "model_tree = tree.DecisionTreeClassifier(criterion='gini'\n",
    "                                        ,splitter='best'\n",
    "                                        ,max_depth=10\n",
    "                                        ,min_samples_split=5\n",
    "                                        ,min_samples_leaf=5\n",
    "                                        ,min_weight_fraction_leaf=0.2\n",
    "                                        ,max_features=5\n",
    "                                        ,random_state=16\n",
    "                                        ,max_leaf_nodes=10\n",
    "                                        ,min_impurity_split=0.5\n",
    "                                        ,min_impurity_decrease=0\n",
    "                                        ,class_weight='balanced'\n",
    "                                        ,presort=True)"
   ]
  },
  {
   "cell_type": "code",
   "execution_count": 30,
   "metadata": {},
   "outputs": [
    {
     "data": {
      "text/plain": [
       "DecisionTreeClassifier(class_weight='balanced', criterion='gini',\n",
       "            max_depth=10, max_features=5, max_leaf_nodes=10,\n",
       "            min_impurity_decrease=0, min_impurity_split=0.5,\n",
       "            min_samples_leaf=5, min_samples_split=5,\n",
       "            min_weight_fraction_leaf=0.2, presort=True, random_state=16,\n",
       "            splitter='best')"
      ]
     },
     "execution_count": 30,
     "metadata": {},
     "output_type": "execute_result"
    }
   ],
   "source": [
    "model_tree.fit(X_train,y_train)"
   ]
  },
  {
   "cell_type": "code",
   "execution_count": 31,
   "metadata": {},
   "outputs": [
    {
     "data": {
      "text/plain": [
       "0.8545454545454545"
      ]
     },
     "execution_count": 31,
     "metadata": {},
     "output_type": "execute_result"
    }
   ],
   "source": [
    "model_tree.score(X_test,y_test)"
   ]
  },
  {
   "cell_type": "code",
   "execution_count": 32,
   "metadata": {},
   "outputs": [],
   "source": [
    "y_pred = model_tree.predict(X_test)"
   ]
  },
  {
   "cell_type": "markdown",
   "metadata": {},
   "source": [
    "##### Confusion Matrix "
   ]
  },
  {
   "cell_type": "code",
   "execution_count": 33,
   "metadata": {},
   "outputs": [
    {
     "name": "stdout",
     "output_type": "stream",
     "text": [
      "[[940   0]\n",
      " [160   0]]\n",
      "             precision    recall  f1-score   support\n",
      "\n",
      "          0       0.85      1.00      0.92       940\n",
      "          1       0.00      0.00      0.00       160\n",
      "\n",
      "avg / total       0.73      0.85      0.79      1100\n",
      "\n"
     ]
    }
   ],
   "source": [
    "print(confusion_matrix(y_test,y_pred))\n",
    "print(classification_report(y_test,y_pred))"
   ]
  },
  {
   "cell_type": "markdown",
   "metadata": {},
   "source": [
    "##### ROC Curve"
   ]
  },
  {
   "cell_type": "code",
   "execution_count": 34,
   "metadata": {},
   "outputs": [],
   "source": [
    "false_positive_rate, true_positive_rate,thresholds = roc_curve(y_pred, y_test)\n",
    "roc_auc = auc(false_positive_rate,true_positive_rate)"
   ]
  },
  {
   "cell_type": "code",
   "execution_count": 35,
   "metadata": {},
   "outputs": [
    {
     "data": {
      "image/png": "[encoded data removed]",
      "text/plain": [
       "<Figure size 432x288 with 1 Axes>"
      ]
     },
     "metadata": {},
     "output_type": "display_data"
    }
   ],
   "source": [
    "plt.title('Roc Curve tree Model')\n",
    "plt.plot(false_positive_rate,true_positive_rate,'b', label='AUC = %0.2f'%roc_auc)\n",
    "plt.legend(loc='lower right')\n",
    "plt.plot([0,1],[0,1],'r--')\n",
    "plt.ylabel('True positive rate')\n",
    "plt.xlabel('False positive rate')\n",
    "plt.show()"
   ]
  }
 ],
 "metadata": {
  "kernelspec": {
   "display_name": "Python 3",
   "language": "python",
   "name": "python3"
  },
  "language_info": {
   "codemirror_mode": {
    "name": "ipython",
    "version": 3
   },
   "file_extension": ".py",
   "mimetype": "text/x-python",
   "name": "python",
   "nbconvert_exporter": "python",
   "pygments_lexer": "ipython3",
   "version": "3.7.0"
  }
 },
 "nbformat": 4,
 "nbformat_minor": 2
}
