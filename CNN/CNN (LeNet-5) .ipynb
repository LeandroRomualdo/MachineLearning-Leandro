{
 "cells": [
  {
   "cell_type": "markdown",
   "metadata": {},
   "source": [
    "### CNN LeNet-5 \n",
    "https://engmrk.com/module-22-implementation-of-cnn-using-keras/\n"
   ]
  },
  {
   "cell_type": "code",
   "execution_count": null,
   "metadata": {},
   "outputs": [],
   "source": [
    "import keras\n",
    "from keras.datasets import mnist\n",
    "from keras.utils import np_utils\n",
    "from keras.models import Sequencial\n",
    "from keras import models, layers\n",
    "import matpltlib.pyplot as plt\n",
    "\n",
    "%matplotlib inline"
   ]
  },
  {
   "cell_type": "markdown",
   "metadata": {},
   "source": [
    "#####  Load dataset Mnist train and test "
   ]
  },
  {
   "cell_type": "code",
   "execution_count": null,
   "metadata": {},
   "outputs": [],
   "source": [
    "(x_train, y_train), (x_test, y_test) = mnist.load_data()"
   ]
  },
  {
   "cell_type": "markdown",
   "metadata": {},
   "source": [
    "##### Alterando o tipo de dados de uint8 para float32"
   ]
  },
  {
   "cell_type": "code",
   "execution_count": null,
   "metadata": {},
   "outputs": [],
   "source": [
    "x_train = x_train.astype('float32')\n",
    "x_test  = x_test.astype('float32')"
   ]
  },
  {
   "cell_type": "markdown",
   "metadata": {},
   "source": [
    "##### Normalizando dados 0,1"
   ]
  },
  {
   "cell_type": "code",
   "execution_count": null,
   "metadata": {},
   "outputs": [],
   "source": [
    "x_train /=255\n",
    "x_test /=255"
   ]
  },
  {
   "cell_type": "markdown",
   "metadata": {},
   "source": [
    "##### One-hot Enconding"
   ]
  },
  {
   "cell_type": "code",
   "execution_count": null,
   "metadata": {},
   "outputs": [],
   "source": [
    "y_train = np_utils.to_categorical(y_train,10)\n",
    "y_test = np_utils.to_categorical(y_test, 10)"
   ]
  },
  {
   "cell_type": "markdown",
   "metadata": {},
   "source": [
    "##### Transformando dataset em array 4D"
   ]
  },
  {
   "cell_type": "code",
   "execution_count": null,
   "metadata": {},
   "outputs": [],
   "source": [
    "x_train = x_train.reshape(x_train.shape[0],28,28,1)\n",
    "x_test = x_test.reshape(x_test.shape[0],28,28,1)"
   ]
  },
  {
   "cell_type": "markdown",
   "metadata": {},
   "source": [
    "##### Criando modelo e definindo parâmetros"
   ]
  },
  {
   "cell_type": "code",
   "execution_count": null,
   "metadata": {},
   "outputs": [],
   "source": [
    "keras_model = Sequential()\n",
    "\n",
    "# Primeira camada de convolução\n",
    "keras_model.add(layers.Conv2D(6,kernel_size=(5,5),strides=(1,1),activation='tanh',input_shape=(28,28,1),padding='same'))\n",
    "# Camada de Pooling\n",
    "keras_model.add(layers.AveragePooling2D(pool_size=(2,2),strides=(1,1),padding='valid'))\n",
    "# Segunda camada de convolução\n",
    "keras_model.add(layers.Conv2D(16, kernel_size(5,5), strides=(1,1), activation='tanh',padding='valid'))\n",
    "# Segunda camada de pooling\n",
    "keras_model.add(layers.AveragePooling2D(pool_size=(2,2),strides=(2,2),padding='valid'))\n",
    "# Camada de convolução totalmente conectada\n",
    "keras_model.add(layers.Conv2D(120,kernel_size(5,5),strides=(1,1), activation='tanh',padding='valid'))\n",
    "# Camada de saida\n",
    "keras_model.add(layers.Flatten())\n",
    "# Camada  totalmente conectada\n",
    "keras_model.add(layers.Dense(84,activation='tanh'))\n",
    "# Camada de saida\n",
    "keras_model.add(layers.Dense(10,activation='softmax'))\n",
    "\n",
    "keras_model.compile(loss=keras.losses.categorical_crossentropy, optimizer='SGD',metrics=['accuracy'])"
   ]
  },
  {
   "cell_type": "markdown",
   "metadata": {},
   "source": [
    "##### Validação do modelo"
   ]
  },
  {
   "cell_type": "code",
   "execution_count": null,
   "metadata": {},
   "outputs": [],
   "source": [
    "hist = keras_model.fit(x=x_train, y=y_train, epochs=100, batch_size=128, validation_data(x_test, y_test), verbose=1)"
   ]
  },
  {
   "cell_type": "code",
   "execution_count": null,
   "metadata": {},
   "outputs": [],
   "source": [
    "score_teste = keras_model.evaluate(x_test,y_test)\n",
    "print(\"Perda em teste{:4f}, accuracy{:2f}%\".format(score_test[0], score_teste[1] * 100))"
   ]
  },
  {
   "cell_type": "markdown",
   "metadata": {},
   "source": [
    "##### Visualizando o treino do modelo"
   ]
  },
  {
   "cell_type": "code",
   "execution_count": null,
   "metadata": {},
   "outputs": [],
   "source": [
    "f, ax = plt.subplot()\n",
    "ax.plot([None] + hist.history['acc'],'o-')\n",
    "ax.plot([None] + hist.history['val_acc'],'x-')\n",
    "ax.legend(['Acc em treino', 'Acc em validação'],loc=0)\n",
    "ax.set_title('Treino/validação acurácia por epoch')\n",
    "ax.set_xlabel('Epoch')\n",
    "ax.set_ylabel('Acurária')"
   ]
  },
  {
   "cell_type": "code",
   "execution_count": null,
   "metadata": {},
   "outputs": [],
   "source": [
    "f, ax = plt.subplot()\n",
    "ax.plot([None] + hist.history['loss'],'o-')\n",
    "ax.plot([None] + hist.history['val_loss'],'x-')\n",
    "ax.legend(['Perda em treino', 'Perda em validação'],loc=0)\n",
    "ax.set_title('Treino/validação perda por epoch')\n",
    "ax.set_xlabel('Epoch')\n",
    "ax.set_ylabel('Perda')"
   ]
  }
 ],
 "metadata": {
  "kernelspec": {
   "display_name": "Python 3",
   "language": "python",
   "name": "python3"
  },
  "language_info": {
   "codemirror_mode": {
    "name": "ipython",
    "version": 3
   },
   "file_extension": ".py",
   "mimetype": "text/x-python",
   "name": "python",
   "nbconvert_exporter": "python",
   "pygments_lexer": "ipython3",
   "version": "3.7.0"
  }
 },
 "nbformat": 4,
 "nbformat_minor": 2
}
