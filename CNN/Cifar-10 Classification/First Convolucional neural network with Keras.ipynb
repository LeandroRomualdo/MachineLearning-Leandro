{
 "cells": [
  {
   "cell_type": "markdown",
   "metadata": {},
   "source": [
    "## Primeiros passos com Keras\n",
    "\n",
    "Esta contribuição demonstra a facilidade do desenvolvimento de uma rede neural convolucional LeNet-5 utilizando framework keras com TensorFlow em background e utilizando o dataset Cifar10.\n",
    " "
   ]
  },
  {
   "cell_type": "code",
   "execution_count": 178,
   "metadata": {},
   "outputs": [
    {
     "name": "stdout",
     "output_type": "stream",
     "text": [
      "[name: \"/device:CPU:0\"\n",
      "device_type: \"CPU\"\n",
      "memory_limit: 268435456\n",
      "locality {\n",
      "}\n",
      "incarnation: 1303535744627528729\n",
      "]\n"
     ]
    }
   ],
   "source": [
    "from __future__ import print_function\n",
    "import keras\n",
    "from keras.datasets import cifar10\n",
    "from keras.preprocessing.image import ImageDataGenerator\n",
    "from keras.models import Sequential\n",
    "from keras.layers import Dense, Dropout, Activation, Flatten\n",
    "from keras.layers import Conv2D, MaxPooling2D\n",
    "from keras.callbacks import TensorBoard\n",
    "import os\n",
    "import warnings\n",
    "from time import time\n",
    "from tensorflow.python.client import device_lib\n",
    "print(device_lib.list_local_devices())\n",
    "\n",
    "warnings.simplefilter(\"ignore\")"
   ]
  },
  {
   "cell_type": "markdown",
   "metadata": {},
   "source": [
    "##### Carrega dataset Cifar10 e faz o split em treino e test."
   ]
  },
  {
   "cell_type": "code",
   "execution_count": 157,
   "metadata": {},
   "outputs": [
    {
     "name": "stdout",
     "output_type": "stream",
     "text": [
      "x_train shape: (50000, 32, 32, 3)\n",
      "50000 train samples\n",
      "10000 test samples\n"
     ]
    }
   ],
   "source": [
    "(x_train, y_train), (x_test, y_test) = cifar10.load_data()\n",
    "print('x_train shape:', x_train.shape)\n",
    "print(x_train.shape[0], 'train samples')\n",
    "print(x_test.shape[0], 'test samples')"
   ]
  },
  {
   "cell_type": "markdown",
   "metadata": {},
   "source": [
    "##### Parâmetros da rede e de treinamento"
   ]
  },
  {
   "cell_type": "code",
   "execution_count": 158,
   "metadata": {},
   "outputs": [],
   "source": [
    "batch_size = 32\n",
    "num_classes = 10\n",
    "epochs = 100\n",
    "data_augmentation = True\n",
    "num_predictions = 20\n",
    "save_dir = os.path.join(os.getcwd(), 'saved_models')\n",
    "model_name = 'Keras_Cifar10_Model'\n",
    "INPUT_SHAPE = x_train.shape[1:]"
   ]
  },
  {
   "cell_type": "code",
   "execution_count": 159,
   "metadata": {},
   "outputs": [],
   "source": [
    "y_train = keras.utils.to_categorical(y_train, num_classes)\n",
    "y_test = keras.utils.to_categorical(y_test, num_classes)"
   ]
  },
  {
   "cell_type": "markdown",
   "metadata": {},
   "source": [
    "##### Criação da rede convolucional"
   ]
  },
  {
   "cell_type": "code",
   "execution_count": 160,
   "metadata": {},
   "outputs": [],
   "source": [
    "model = Sequential()\n",
    "model.add(Conv2D(32,(3,3), padding='same', input_shape=INPUT_SHAPE))\n",
    "model.add(Activation('elu'))\n",
    "model.add(Conv2D(32,(3,3)))\n",
    "model.add(Activation('elu'))\n",
    "model.add(MaxPooling2D(pool_size=(2,2)))\n",
    "model.add(Dropout(0.25))\n",
    "\n",
    "model.add(Flatten())\n",
    "model.add(Dense(512))\n",
    "model.add(Activation('relu'))\n",
    "model.add(Dropout(0.25))\n",
    "model.add(Dense(num_classes))\n",
    "model.add(Activation('softmax'))"
   ]
  },
  {
   "cell_type": "markdown",
   "metadata": {},
   "source": [
    "##### Adicionando função de otimização"
   ]
  },
  {
   "cell_type": "code",
   "execution_count": 161,
   "metadata": {},
   "outputs": [],
   "source": [
    "opt = keras.optimizers.rmsprop(lr=0.0001, decay=1e-6)"
   ]
  },
  {
   "cell_type": "markdown",
   "metadata": {},
   "source": [
    "##### Treinando a rede"
   ]
  },
  {
   "cell_type": "code",
   "execution_count": 162,
   "metadata": {},
   "outputs": [],
   "source": [
    "model.compile(loss='categorical_crossentropy',\n",
    "              optimizer=opt,\n",
    "              metrics=['accuracy'])"
   ]
  },
  {
   "cell_type": "markdown",
   "metadata": {},
   "source": [
    "##### Chamada do TensorBoard"
   ]
  },
  {
   "cell_type": "code",
   "execution_count": 163,
   "metadata": {},
   "outputs": [
    {
     "data": {
      "text/plain": [
       "<keras.callbacks.TensorBoard at 0x209e064b2e8>"
      ]
     },
     "execution_count": 163,
     "metadata": {},
     "output_type": "execute_result"
    }
   ],
   "source": [
    "tensorboard = TensorBoard(log_dir=\"logs/{}\".format(time()))\n",
    "keras.callbacks.TensorBoard(log_dir='./logs',\n",
    "                            histogram_freq=0, \n",
    "                            batch_size=32, \n",
    "                            write_graph=True, \n",
    "                            write_grads=False, \n",
    "                            write_images=False, \n",
    "                            embeddings_freq=0, \n",
    "                            embeddings_layer_names=None, \n",
    "                            embeddings_metadata=None, \n",
    "                            embeddings_data=None, \n",
    "                            update_freq='epoch')"
   ]
  },
  {
   "cell_type": "code",
   "execution_count": 164,
   "metadata": {},
   "outputs": [],
   "source": [
    "x_train = x_train.astype('float32')\n",
    "x_test = x_test.astype('float32')\n",
    "x_train /= 255\n",
    "x_test /= 255"
   ]
  },
  {
   "cell_type": "code",
   "execution_count": 165,
   "metadata": {},
   "outputs": [
    {
     "name": "stdout",
     "output_type": "stream",
     "text": [
      "Using-real-time data augmentation\n"
     ]
    }
   ],
   "source": [
    "if not data_augmentation:\n",
    "    print('Not using data augmentation')\n",
    "    model.fit(x_train, y_train,\n",
    "             batch_size=batch_size,\n",
    "             epochs=epochs,\n",
    "             validation_data=(y_test,x_test),\n",
    "             shuffle=True)\n",
    "else:\n",
    "    print('Using-real-time data augmentation')\n",
    "    datagen = ImageDataGenerator(\n",
    "        featurewise_center=False,\n",
    "        samplewise_center=False,\n",
    "        featurewise_std_normalization=False,\n",
    "        samplewise_std_normalization=False,\n",
    "        zca_whitening=False,\n",
    "        zca_epsilon=1e-6,\n",
    "        rotation_range=0,\n",
    "        width_shift_range=0.1,\n",
    "        height_shift_range=0.1,\n",
    "        shear_range=0.,\n",
    "        zoom_range=0.,\n",
    "        channel_shift_range=0.,\n",
    "        fill_mode='nearest',\n",
    "        cval=0.,\n",
    "        horizontal_flip=True,\n",
    "        vertical_flip=False,\n",
    "        rescale=None,\n",
    "        preprocessing_function=None,\n",
    "        data_format=None,\n",
    "        validation_split=0.0) "
   ]
  },
  {
   "cell_type": "code",
   "execution_count": 166,
   "metadata": {},
   "outputs": [],
   "source": [
    "datagen.fit(x_train)"
   ]
  },
  {
   "cell_type": "code",
   "execution_count": 167,
   "metadata": {},
   "outputs": [
    {
     "name": "stdout",
     "output_type": "stream",
     "text": [
      "Epoch 1/100\n",
      "10/10 [==============================] - 18s 2s/step - loss: 2.3976 - acc: 0.1156 - val_loss: 2.2297 - val_acc: 0.1848\n",
      "Epoch 2/100\n",
      "10/10 [==============================] - 19s 2s/step - loss: 2.2608 - acc: 0.1687 - val_loss: 2.1783 - val_acc: 0.2024\n",
      "Epoch 3/100\n",
      "10/10 [==============================] - 22s 2s/step - loss: 2.1694 - acc: 0.1750 - val_loss: 2.1322 - val_acc: 0.2034\n",
      "Epoch 4/100\n",
      "10/10 [==============================] - 18s 2s/step - loss: 2.1417 - acc: 0.2062 - val_loss: 2.0727 - val_acc: 0.2654\n",
      "Epoch 5/100\n",
      "10/10 [==============================] - 17s 2s/step - loss: 2.0637 - acc: 0.2531 - val_loss: 2.0534 - val_acc: 0.2559\n",
      "Epoch 6/100\n",
      "10/10 [==============================] - 17s 2s/step - loss: 2.0783 - acc: 0.2219 - val_loss: 2.0148 - val_acc: 0.2759\n",
      "Epoch 7/100\n",
      "10/10 [==============================] - 18s 2s/step - loss: 2.1002 - acc: 0.2563 - val_loss: 1.9974 - val_acc: 0.2720\n",
      "Epoch 8/100\n",
      "10/10 [==============================] - 16s 2s/step - loss: 2.0225 - acc: 0.2656 - val_loss: 1.9618 - val_acc: 0.3118\n",
      "Epoch 9/100\n",
      "10/10 [==============================] - 15s 2s/step - loss: 2.0246 - acc: 0.2875 - val_loss: 1.9850 - val_acc: 0.2823\n",
      "Epoch 10/100\n",
      "10/10 [==============================] - 17s 2s/step - loss: 2.0145 - acc: 0.2563 - val_loss: 1.9288 - val_acc: 0.3307\n",
      "Epoch 11/100\n",
      "10/10 [==============================] - 16s 2s/step - loss: 1.9844 - acc: 0.2969 - val_loss: 2.0468 - val_acc: 0.2009\n",
      "Epoch 12/100\n",
      "10/10 [==============================] - 14s 1s/step - loss: 1.9507 - acc: 0.2938 - val_loss: 1.9051 - val_acc: 0.3365\n",
      "Epoch 13/100\n",
      "10/10 [==============================] - 15s 1s/step - loss: 1.9391 - acc: 0.3125 - val_loss: 1.9149 - val_acc: 0.3282\n",
      "Epoch 14/100\n",
      "10/10 [==============================] - 15s 1s/step - loss: 1.9448 - acc: 0.2875 - val_loss: 1.8703 - val_acc: 0.3612\n",
      "Epoch 15/100\n",
      "10/10 [==============================] - 14s 1s/step - loss: 1.9263 - acc: 0.3219 - val_loss: 1.9017 - val_acc: 0.3012\n",
      "Epoch 16/100\n",
      "10/10 [==============================] - 14s 1s/step - loss: 1.9498 - acc: 0.2812 - val_loss: 1.8500 - val_acc: 0.3609\n",
      "Epoch 17/100\n",
      "10/10 [==============================] - 16s 2s/step - loss: 1.9225 - acc: 0.3062 - val_loss: 1.8741 - val_acc: 0.3274\n",
      "Epoch 18/100\n",
      "10/10 [==============================] - 20s 2s/step - loss: 1.9636 - acc: 0.3031 - val_loss: 1.8396 - val_acc: 0.3598\n",
      "Epoch 19/100\n",
      "10/10 [==============================] - 18s 2s/step - loss: 1.9081 - acc: 0.3031 - val_loss: 1.8199 - val_acc: 0.3665\n",
      "Epoch 20/100\n",
      "10/10 [==============================] - 15s 2s/step - loss: 1.8764 - acc: 0.3156 - val_loss: 1.8239 - val_acc: 0.3611\n",
      "Epoch 21/100\n",
      "10/10 [==============================] - 15s 2s/step - loss: 1.9134 - acc: 0.2906 - val_loss: 1.8307 - val_acc: 0.3555\n",
      "Epoch 22/100\n",
      "10/10 [==============================] - 15s 2s/step - loss: 1.8249 - acc: 0.3875 - val_loss: 1.8000 - val_acc: 0.3697\n",
      "Epoch 23/100\n",
      "10/10 [==============================] - 15s 2s/step - loss: 1.8228 - acc: 0.3563 - val_loss: 1.7869 - val_acc: 0.3876\n",
      "Epoch 24/100\n",
      "10/10 [==============================] - 14s 1s/step - loss: 1.7927 - acc: 0.4000 - val_loss: 1.7840 - val_acc: 0.3750\n",
      "Epoch 25/100\n",
      "10/10 [==============================] - 15s 1s/step - loss: 1.8466 - acc: 0.3563 - val_loss: 1.8002 - val_acc: 0.3597\n",
      "Epoch 26/100\n",
      "10/10 [==============================] - 15s 1s/step - loss: 1.8748 - acc: 0.3375 - val_loss: 1.7667 - val_acc: 0.3911\n",
      "Epoch 27/100\n",
      "10/10 [==============================] - 16s 2s/step - loss: 1.8216 - acc: 0.3594 - val_loss: 1.7764 - val_acc: 0.3753\n",
      "Epoch 28/100\n",
      "10/10 [==============================] - 15s 1s/step - loss: 1.8434 - acc: 0.3281 - val_loss: 1.7612 - val_acc: 0.3869\n",
      "Epoch 29/100\n",
      "10/10 [==============================] - 14s 1s/step - loss: 1.8587 - acc: 0.3656 - val_loss: 1.7370 - val_acc: 0.3979\n",
      "Epoch 30/100\n",
      "10/10 [==============================] - 14s 1s/step - loss: 1.7110 - acc: 0.4094 - val_loss: 1.7664 - val_acc: 0.3717\n",
      "Epoch 31/100\n",
      "10/10 [==============================] - 15s 1s/step - loss: 1.8094 - acc: 0.3812 - val_loss: 1.7391 - val_acc: 0.3928\n",
      "Epoch 32/100\n",
      "10/10 [==============================] - 15s 2s/step - loss: 1.9549 - acc: 0.3094 - val_loss: 1.7703 - val_acc: 0.3715\n",
      "Epoch 33/100\n",
      "10/10 [==============================] - 15s 1s/step - loss: 1.8134 - acc: 0.3563 - val_loss: 1.7412 - val_acc: 0.3999\n",
      "Epoch 34/100\n",
      "10/10 [==============================] - 16s 2s/step - loss: 1.8412 - acc: 0.3406 - val_loss: 1.7142 - val_acc: 0.4002\n",
      "Epoch 35/100\n",
      "10/10 [==============================] - 15s 1s/step - loss: 1.7652 - acc: 0.4000 - val_loss: 1.7290 - val_acc: 0.3958\n",
      "Epoch 36/100\n",
      "10/10 [==============================] - 16s 2s/step - loss: 1.7437 - acc: 0.3937 - val_loss: 1.7214 - val_acc: 0.3908\n",
      "Epoch 37/100\n",
      "10/10 [==============================] - 15s 2s/step - loss: 1.7992 - acc: 0.3281 - val_loss: 1.7189 - val_acc: 0.3946\n",
      "Epoch 38/100\n",
      "10/10 [==============================] - 15s 2s/step - loss: 1.7738 - acc: 0.4000 - val_loss: 1.6906 - val_acc: 0.4109\n",
      "Epoch 39/100\n",
      "10/10 [==============================] - 16s 2s/step - loss: 1.7389 - acc: 0.3625 - val_loss: 1.8145 - val_acc: 0.3527\n",
      "Epoch 40/100\n",
      "10/10 [==============================] - 17s 2s/step - loss: 1.7814 - acc: 0.3875 - val_loss: 1.7150 - val_acc: 0.3893\n",
      "Epoch 41/100\n",
      "10/10 [==============================] - 20s 2s/step - loss: 1.7399 - acc: 0.3906 - val_loss: 1.7298 - val_acc: 0.3834\n",
      "Epoch 42/100\n",
      "10/10 [==============================] - 16s 2s/step - loss: 1.7269 - acc: 0.3719 - val_loss: 1.7069 - val_acc: 0.4059\n",
      "Epoch 43/100\n",
      "10/10 [==============================] - 14s 1s/step - loss: 1.7469 - acc: 0.3688 - val_loss: 1.7302 - val_acc: 0.3829\n",
      "Epoch 44/100\n",
      "10/10 [==============================] - 15s 1s/step - loss: 1.7382 - acc: 0.3656 - val_loss: 1.6878 - val_acc: 0.4073\n",
      "Epoch 45/100\n",
      "10/10 [==============================] - 14s 1s/step - loss: 1.7806 - acc: 0.3563 - val_loss: 1.6755 - val_acc: 0.4190\n",
      "Epoch 46/100\n",
      "10/10 [==============================] - 14s 1s/step - loss: 1.7582 - acc: 0.4062 - val_loss: 1.6770 - val_acc: 0.4158\n",
      "Epoch 47/100\n",
      "10/10 [==============================] - 14s 1s/step - loss: 1.7069 - acc: 0.3750 - val_loss: 1.6523 - val_acc: 0.4241\n",
      "Epoch 48/100\n",
      "10/10 [==============================] - 14s 1s/step - loss: 1.7246 - acc: 0.3812 - val_loss: 1.6589 - val_acc: 0.4054\n",
      "Epoch 49/100\n",
      "10/10 [==============================] - 15s 2s/step - loss: 1.7326 - acc: 0.3563 - val_loss: 1.6928 - val_acc: 0.3882\n",
      "Epoch 50/100\n",
      "10/10 [==============================] - 20s 2s/step - loss: 1.6478 - acc: 0.3969 - val_loss: 1.7370 - val_acc: 0.3801\n",
      "Epoch 51/100\n",
      "10/10 [==============================] - 18s 2s/step - loss: 1.6735 - acc: 0.3750 - val_loss: 1.7114 - val_acc: 0.4002\n",
      "Epoch 52/100\n",
      "10/10 [==============================] - 16s 2s/step - loss: 1.7952 - acc: 0.3688 - val_loss: 1.6365 - val_acc: 0.4345\n",
      "Epoch 53/100\n",
      "10/10 [==============================] - 17s 2s/step - loss: 1.7629 - acc: 0.3688 - val_loss: 1.6521 - val_acc: 0.4234\n",
      "Epoch 54/100\n",
      "10/10 [==============================] - 16s 2s/step - loss: 1.7423 - acc: 0.4000 - val_loss: 1.6750 - val_acc: 0.4129\n",
      "Epoch 55/100\n",
      "10/10 [==============================] - 16s 2s/step - loss: 1.7458 - acc: 0.3531 - val_loss: 1.6252 - val_acc: 0.4349\n",
      "Epoch 56/100\n",
      "10/10 [==============================] - 17s 2s/step - loss: 1.6740 - acc: 0.4313 - val_loss: 1.6709 - val_acc: 0.4089\n",
      "Epoch 57/100\n",
      "10/10 [==============================] - 17s 2s/step - loss: 1.7834 - acc: 0.3688 - val_loss: 1.6279 - val_acc: 0.4323\n",
      "Epoch 58/100\n",
      "10/10 [==============================] - 16s 2s/step - loss: 1.7593 - acc: 0.3688 - val_loss: 1.7187 - val_acc: 0.3952\n",
      "Epoch 59/100\n",
      "10/10 [==============================] - 17s 2s/step - loss: 1.7495 - acc: 0.3750 - val_loss: 1.6486 - val_acc: 0.4182\n",
      "Epoch 60/100\n",
      "10/10 [==============================] - 20s 2s/step - loss: 1.7295 - acc: 0.3594 - val_loss: 1.7063 - val_acc: 0.4001\n",
      "Epoch 61/100\n",
      "10/10 [==============================] - 17s 2s/step - loss: 1.7517 - acc: 0.3563 - val_loss: 1.6603 - val_acc: 0.4214\n",
      "Epoch 62/100\n",
      "10/10 [==============================] - 16s 2s/step - loss: 1.7094 - acc: 0.3844 - val_loss: 1.6422 - val_acc: 0.4282\n",
      "Epoch 63/100\n",
      "10/10 [==============================] - 15s 2s/step - loss: 1.6893 - acc: 0.4250 - val_loss: 1.6293 - val_acc: 0.4300\n",
      "Epoch 64/100\n",
      "10/10 [==============================] - 16s 2s/step - loss: 1.7458 - acc: 0.3531 - val_loss: 1.6081 - val_acc: 0.4340\n",
      "Epoch 65/100\n",
      "10/10 [==============================] - 16s 2s/step - loss: 1.7508 - acc: 0.4219 - val_loss: 1.6022 - val_acc: 0.4398\n",
      "Epoch 66/100\n",
      "10/10 [==============================] - 15s 1s/step - loss: 1.7397 - acc: 0.3812 - val_loss: 1.6236 - val_acc: 0.4278\n",
      "Epoch 67/100\n",
      "10/10 [==============================] - 16s 2s/step - loss: 1.7364 - acc: 0.4125 - val_loss: 1.6365 - val_acc: 0.4196\n",
      "Epoch 68/100\n",
      "10/10 [==============================] - 15s 2s/step - loss: 1.7369 - acc: 0.4156 - val_loss: 1.6306 - val_acc: 0.4189\n",
      "Epoch 69/100\n",
      "10/10 [==============================] - 16s 2s/step - loss: 1.6704 - acc: 0.4062 - val_loss: 1.6296 - val_acc: 0.4295\n",
      "Epoch 70/100\n",
      "10/10 [==============================] - 16s 2s/step - loss: 1.5965 - acc: 0.4250 - val_loss: 1.6029 - val_acc: 0.4361\n",
      "Epoch 71/100\n",
      "10/10 [==============================] - 15s 2s/step - loss: 1.6903 - acc: 0.3594 - val_loss: 1.5757 - val_acc: 0.4482\n",
      "Epoch 72/100\n",
      "10/10 [==============================] - 15s 2s/step - loss: 1.6688 - acc: 0.4281 - val_loss: 1.5776 - val_acc: 0.4493\n",
      "Epoch 73/100\n",
      "10/10 [==============================] - 16s 2s/step - loss: 1.6921 - acc: 0.4188 - val_loss: 1.5684 - val_acc: 0.4552\n",
      "Epoch 74/100\n",
      "10/10 [==============================] - 15s 1s/step - loss: 1.6216 - acc: 0.4562 - val_loss: 1.5646 - val_acc: 0.4525\n",
      "Epoch 75/100\n",
      "10/10 [==============================] - 15s 1s/step - loss: 1.6887 - acc: 0.4094 - val_loss: 1.5637 - val_acc: 0.4530\n",
      "Epoch 76/100\n",
      "10/10 [==============================] - 16s 2s/step - loss: 1.7626 - acc: 0.3688 - val_loss: 1.5951 - val_acc: 0.4382\n",
      "Epoch 77/100\n",
      "10/10 [==============================] - 16s 2s/step - loss: 1.6737 - acc: 0.4344 - val_loss: 1.5885 - val_acc: 0.4366\n",
      "Epoch 78/100\n",
      "10/10 [==============================] - 15s 2s/step - loss: 1.7108 - acc: 0.4094 - val_loss: 1.5879 - val_acc: 0.4431\n",
      "Epoch 79/100\n",
      "10/10 [==============================] - 14s 1s/step - loss: 1.7383 - acc: 0.4000 - val_loss: 1.5624 - val_acc: 0.4568\n",
      "Epoch 80/100\n",
      "10/10 [==============================] - 17s 2s/step - loss: 1.7346 - acc: 0.4188 - val_loss: 1.5901 - val_acc: 0.4353\n",
      "Epoch 81/100\n",
      "10/10 [==============================] - 17s 2s/step - loss: 1.7112 - acc: 0.4344 - val_loss: 1.6026 - val_acc: 0.4337\n",
      "Epoch 82/100\n",
      "10/10 [==============================] - 16s 2s/step - loss: 1.6835 - acc: 0.4156 - val_loss: 1.6346 - val_acc: 0.4204\n",
      "Epoch 83/100\n",
      "10/10 [==============================] - 14s 1s/step - loss: 1.6584 - acc: 0.4219 - val_loss: 1.5740 - val_acc: 0.4445\n",
      "Epoch 84/100\n",
      "10/10 [==============================] - 17s 2s/step - loss: 1.6023 - acc: 0.4406 - val_loss: 1.5595 - val_acc: 0.4490\n",
      "Epoch 85/100\n",
      "10/10 [==============================] - 14s 1s/step - loss: 1.7146 - acc: 0.4031 - val_loss: 1.5571 - val_acc: 0.4496\n",
      "Epoch 86/100\n",
      "10/10 [==============================] - 15s 1s/step - loss: 1.6585 - acc: 0.4000 - val_loss: 1.6153 - val_acc: 0.4249\n",
      "Epoch 87/100\n",
      "10/10 [==============================] - 14s 1s/step - loss: 1.7456 - acc: 0.3625 - val_loss: 1.5835 - val_acc: 0.4470\n",
      "Epoch 88/100\n",
      "10/10 [==============================] - 14s 1s/step - loss: 1.5561 - acc: 0.4469 - val_loss: 1.5833 - val_acc: 0.4421\n",
      "Epoch 89/100\n",
      "10/10 [==============================] - 14s 1s/step - loss: 1.5791 - acc: 0.4469 - val_loss: 1.5545 - val_acc: 0.4539\n",
      "Epoch 90/100\n",
      "10/10 [==============================] - 14s 1s/step - loss: 1.6203 - acc: 0.4375 - val_loss: 1.5578 - val_acc: 0.4543\n",
      "Epoch 91/100\n",
      "10/10 [==============================] - 16s 2s/step - loss: 1.6659 - acc: 0.4313 - val_loss: 1.5434 - val_acc: 0.4630\n",
      "Epoch 92/100\n",
      "10/10 [==============================] - 18s 2s/step - loss: 1.6233 - acc: 0.4281 - val_loss: 1.6033 - val_acc: 0.4413\n",
      "Epoch 93/100\n",
      "10/10 [==============================] - 18s 2s/step - loss: 1.6358 - acc: 0.4156 - val_loss: 1.5738 - val_acc: 0.4491\n",
      "Epoch 94/100\n",
      "10/10 [==============================] - 16s 2s/step - loss: 1.6581 - acc: 0.4000 - val_loss: 1.5343 - val_acc: 0.4609\n",
      "Epoch 95/100\n",
      "10/10 [==============================] - 18s 2s/step - loss: 1.6417 - acc: 0.3969 - val_loss: 1.6283 - val_acc: 0.4282\n",
      "Epoch 96/100\n",
      "10/10 [==============================] - 16s 2s/step - loss: 1.5964 - acc: 0.4562 - val_loss: 1.6364 - val_acc: 0.4187\n",
      "Epoch 97/100\n",
      "10/10 [==============================] - 20s 2s/step - loss: 1.7233 - acc: 0.3812 - val_loss: 1.5624 - val_acc: 0.4529\n",
      "Epoch 98/100\n",
      "10/10 [==============================] - 17s 2s/step - loss: 1.6258 - acc: 0.4281 - val_loss: 1.5256 - val_acc: 0.4621\n",
      "Epoch 99/100\n",
      "10/10 [==============================] - 14s 1s/step - loss: 1.6213 - acc: 0.4688 - val_loss: 1.5905 - val_acc: 0.4406\n",
      "Epoch 100/100\n",
      "10/10 [==============================] - 14s 1s/step - loss: 1.6424 - acc: 0.4437 - val_loss: 1.5857 - val_acc: 0.4410\n"
     ]
    },
    {
     "data": {
      "text/plain": [
       "<keras.callbacks.History at 0x209e064d978>"
      ]
     },
     "execution_count": 167,
     "metadata": {},
     "output_type": "execute_result"
    }
   ],
   "source": [
    "model.fit_generator(datagen.flow(x_train, y_train,\n",
    "                                 batch_size=batch_size),\n",
    "                    epochs=epochs,\n",
    "                    validation_data=(x_test,y_test),\n",
    "                    workers=4,\n",
    "                    steps_per_epoch=10,\n",
    "                    callbacks=[tensorboard])"
   ]
  },
  {
   "cell_type": "markdown",
   "metadata": {},
   "source": [
    "##### Salvando Modelo"
   ]
  },
  {
   "cell_type": "code",
   "execution_count": 168,
   "metadata": {},
   "outputs": [
    {
     "name": "stdout",
     "output_type": "stream",
     "text": [
      "Modelo treinado e salvo em C:\\Users\\leandro.r.a.silvA\\MachineLearning-Leandro\\CNN\\saved_models\\Keras_Cifar10_Model \n"
     ]
    }
   ],
   "source": [
    "if not os.path.isdir(save_dir):\n",
    "    os.makedirs(save_dir)\n",
    "\n",
    "model_path = os.path.join(save_dir,model_name)\n",
    "model.save(model_path)\n",
    "print('Modelo treinado e salvo em %s ' % model_path)"
   ]
  },
  {
   "cell_type": "markdown",
   "metadata": {},
   "source": [
    "##### Perda e Acurácia do modelo aplicado aos dados de teste"
   ]
  },
  {
   "cell_type": "code",
   "execution_count": 169,
   "metadata": {},
   "outputs": [
    {
     "name": "stdout",
     "output_type": "stream",
     "text": [
      "10000/10000 [==============================] - 15s 2ms/step\n",
      "Perda em teste: 1.585744954109192\n",
      "Acurácia em teste: 0.441\n"
     ]
    }
   ],
   "source": [
    "score = model.evaluate(x_test, y_test, verbose=1)\n",
    "print('Perda em teste:', score[0])\n",
    "print('Acurácia em teste:', score[1])"
   ]
  },
  {
   "cell_type": "markdown",
   "metadata": {},
   "source": [
    "##### Chamada do Tensorflow\n",
    "\n",
    "Executar o comando abaixo no shell do anaconda e copiar o link que será gerado, composto pelo nome do host e porta 6006."
   ]
  },
  {
   "cell_type": "code",
   "execution_count": null,
   "metadata": {},
   "outputs": [],
   "source": [
    "tensorboard --logs=/C:\\Users\\leandro.r.a.silvA\\MachineLearning-Leandro\\CNN\\logs\\1540558495.3674333"
   ]
  }
 ],
 "metadata": {
  "kernelspec": {
   "display_name": "Python 3",
   "language": "python",
   "name": "python3"
  },
  "language_info": {
   "codemirror_mode": {
    "name": "ipython",
    "version": 3
   },
   "file_extension": ".py",
   "mimetype": "text/x-python",
   "name": "python",
   "nbconvert_exporter": "python",
   "pygments_lexer": "ipython3",
   "version": "3.5.6"
  }
 },
 "nbformat": 4,
 "nbformat_minor": 2
}
