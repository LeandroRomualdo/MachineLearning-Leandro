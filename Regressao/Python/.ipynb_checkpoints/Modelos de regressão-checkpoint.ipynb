{
 "cells": [
  {
   "cell_type": "markdown",
   "metadata": {},
   "source": [
    "### New York City Taxi Trip Duration \n",
    "\n",
    "These datasets used, for fatured Kaggle Competition, you can downloading dataset in this link:\n",
    "\n",
    "https://www.kaggle.com/c/nyc-taxi-trip-duration/data"
   ]
  },
  {
   "cell_type": "code",
   "execution_count": 21,
   "metadata": {},
   "outputs": [],
   "source": [
    "import pandas as pd\n",
    "import numpy as np\n",
    "import matplotlib.pyplot as plt\n",
    "import warnings \n",
    "import seaborn as sns\n",
    "import scipy as sc\n",
    "from sklearn.model_selection import train_test_split\n",
    "import missingno as msno\n",
    "import geopy.distance\n",
    "import mpu\n",
    "from scipy.spatial.distance import euclidean , cityblock\n",
    "import folium \n",
    "from folium import plugins\n",
    "from folium.plugins import HeatMap\n",
    "from bokeh.io import output_notebook,show\n",
    "from bokeh.models import HoverTool\n",
    "from bokeh.plotting import figure\n",
    "from bokeh.palettes import Spectral4\n",
    "from sklearn import linear_model\n",
    "from sklearn.ensemble import RandomForestRegressor\n",
    "from sklearn.model_selection import train_test_split\n",
    "from sklearn import ensemble\n",
    "from sklearn.metrics import mean_squared_error\n",
    "from haversinefunc import distance, add_travel_vector_features\n",
    "\n",
    "\n",
    "warnings.simplefilter(\"ignore\")\n",
    "%matplotlib inline"
   ]
  },
  {
   "cell_type": "code",
   "execution_count": 2,
   "metadata": {},
   "outputs": [],
   "source": [
    "train = pd.read_csv('Datasets/train.csv')\n",
    "test = pd.read_csv('Datasets/test.csv')"
   ]
  },
  {
   "cell_type": "code",
   "execution_count": 3,
   "metadata": {},
   "outputs": [],
   "source": [
    "test['trip_duration'] = 0.001\n",
    "test['dropoff_datetime'] = '1900-01-01 00:00:00'"
   ]
  },
  {
   "cell_type": "markdown",
   "metadata": {},
   "source": [
    "#### Merge datasets train and test"
   ]
  },
  {
   "cell_type": "code",
   "execution_count": 4,
   "metadata": {},
   "outputs": [],
   "source": [
    "datasets = [train, test]\n",
    "dataset = pd.concat(datasets)\n",
    "#dataset.head(5)"
   ]
  },
  {
   "cell_type": "markdown",
   "metadata": {},
   "source": [
    "#### Null and NaN data in datasets"
   ]
  },
  {
   "cell_type": "code",
   "execution_count": null,
   "metadata": {},
   "outputs": [],
   "source": [
    "msno.matrix(dataset, figsize=(18,4))"
   ]
  },
  {
   "cell_type": "code",
   "execution_count": null,
   "metadata": {},
   "outputs": [],
   "source": [
    "dataset.isna().sum()"
   ]
  },
  {
   "cell_type": "markdown",
   "metadata": {},
   "source": [
    "#### Feature Engineering"
   ]
  },
  {
   "cell_type": "markdown",
   "metadata": {},
   "source": [
    "Extract year, month, week, day of week and hour from pickup datetime variable and generate new variables "
   ]
  },
  {
   "cell_type": "code",
   "execution_count": 5,
   "metadata": {},
   "outputs": [],
   "source": [
    "dataset['pickup_datetime'] = pd.to_datetime(dataset['pickup_datetime'])\n",
    "dataset['pickup_hour'] = dataset['pickup_datetime'].dt.hour\n",
    "dataset['pickup_year'] = dataset['pickup_datetime'].dt.year\n",
    "dataset['pickup_month'] = dataset['pickup_datetime'].dt.month\n",
    "dataset['pickup_week'] = dataset['pickup_datetime'].dt.week\n",
    "dataset['pickup_dayofweek'] = dataset['pickup_datetime'].dt.dayofweek\n",
    "\n",
    "dataset['dropoff_datetime'] = pd.to_datetime(dataset['dropoff_datetime'])\n",
    "dataset['dropoff_hour'] = dataset['dropoff_datetime'].dt.hour\n",
    "dataset['dropoff_year'] = dataset['dropoff_datetime'].dt.year\n",
    "dataset['dropoff_month'] = dataset['dropoff_datetime'].dt.month\n",
    "dataset['dropoff_week'] = dataset['dropoff_datetime'].dt.week\n",
    "dataset['dropoff_dayofweek'] = dataset['dropoff_datetime'].dt.dayofweek"
   ]
  },
  {
   "cell_type": "markdown",
   "metadata": {},
   "source": [
    "#### Distance calculate using haversine function"
   ]
  },
  {
   "cell_type": "code",
   "execution_count": 6,
   "metadata": {},
   "outputs": [],
   "source": [
    "add_travel_vector_features(dataset)"
   ]
  },
  {
   "cell_type": "markdown",
   "metadata": {},
   "source": [
    "Using One Hot enconding techniques to create new variables on days of week based."
   ]
  },
  {
   "cell_type": "code",
   "execution_count": 7,
   "metadata": {},
   "outputs": [],
   "source": [
    "cols_tranform = ['pickup_dayofweek','dropoff_dayofweek']\n",
    "dataset = pd.get_dummies(dataset, columns=cols_tranform)"
   ]
  },
  {
   "cell_type": "code",
   "execution_count": 8,
   "metadata": {},
   "outputs": [],
   "source": [
    "dataset['store_and_fwd_flag'] = dataset['store_and_fwd_flag'].astype('category')\n",
    "dataset['store_and_fwd_flag'] = dataset['store_and_fwd_flag'].cat.codes"
   ]
  },
  {
   "cell_type": "code",
   "execution_count": null,
   "metadata": {},
   "outputs": [],
   "source": [
    "train['trip_duration'].hist()"
   ]
  },
  {
   "cell_type": "markdown",
   "metadata": {},
   "source": [
    "Applied log trasnformation in target variable"
   ]
  },
  {
   "cell_type": "code",
   "execution_count": null,
   "metadata": {},
   "outputs": [],
   "source": [
    "np.log(train['trip_duration']).hist()"
   ]
  },
  {
   "cell_type": "code",
   "execution_count": null,
   "metadata": {},
   "outputs": [],
   "source": [
    "train['trip_duration_log'] = np.log(train['trip_duration'])"
   ]
  },
  {
   "cell_type": "markdown",
   "metadata": {},
   "source": [
    "#### EDA - Exploratory data analysis"
   ]
  },
  {
   "cell_type": "code",
   "execution_count": null,
   "metadata": {},
   "outputs": [],
   "source": [
    "np.log(train['trip_duration']).hist()\n"
   ]
  },
  {
   "cell_type": "code",
   "execution_count": null,
   "metadata": {},
   "outputs": [],
   "source": [
    "xlim = [-74.03, -73.77]\n",
    "ylim = [40.63, 40.85]\n",
    "dataset = dataset[(dataset.pickup_longitude> xlim[0]) & (dataset.pickup_longitude < xlim[1])]\n",
    "dataset = dataset[(dataset.dropoff_longitude> xlim[0]) & (dataset.dropoff_longitude < xlim[1])]\n",
    "dataset = dataset[(dataset.pickup_latitude> ylim[0]) & (dataset.pickup_latitude < ylim[1])]\n",
    "dataset = dataset[(dataset.dropoff_latitude> ylim[0]) & (dataset.dropoff_latitude < ylim[1])]"
   ]
  },
  {
   "cell_type": "code",
   "execution_count": null,
   "metadata": {},
   "outputs": [],
   "source": [
    "long = list(dataset.pickup_longitude) + list(dataset.dropoff_longitude)\n",
    "lat = list(dataset.pickup_latitude) + list(dataset.dropoff_latitude)\n",
    "plt.Figure(figsize=(15,15))\n",
    "plt.plot(long,lat,'.', alpha = 0.4, markersize = 0.15)\n",
    "plt.show()"
   ]
  },
  {
   "cell_type": "code",
   "execution_count": null,
   "metadata": {},
   "outputs": [],
   "source": [
    "LaGuardia = {\n",
    "    \"minLat\": 40.76,\n",
    "    \"maxLat\": 40.78,\n",
    "    \"minLong\": -73.895,\n",
    "    \"maxLong\": -73.855\n",
    "}\n",
    "train['pickup_datetime'] = pd.to_datetime(train.pickup_datetime)\n",
    "train['dropoff_datetime'] = pd.to_datetime(train.dropoff_datetime)\n",
    "\n",
    "LaGuardiaData = train[(train['pickup_longitude'].apply(lambda x: (x >=LaGuardia[\"minLong\"]) & (x <= LaGuardia[\"maxLong\"])))]\n",
    "LaGuardiaData = train[(train['pickup_latitude'].apply(lambda x: (x >=LaGuardia[\"minLat\"]) & (x <= LaGuardia[\"maxLat\"])))]\n",
    "LaGuardiaData = train[(train['dropoff_longitude'].apply(lambda x: (x >=LaGuardia[\"minLong\"]) & (x <= LaGuardia[\"maxLong\"])))]\n",
    "LaGuardiaData = train[(train['dropoff_latitude'].apply(lambda x: (x >=LaGuardia[\"minLat\"]) & (x <= LaGuardia[\"maxLat\"])))]\n",
    "\n",
    "m = folium.Map(\n",
    "    location=[40.7769, -73.8740],\n",
    "    zoom_start=12\n",
    ")\n",
    "folium.Marker(location=[40.7769, -73.8740],icon=folium.Icon(color='black') ,popup='LA Guardia International Airport').add_to(m)\n",
    "\n",
    "shortTripsDF=LaGuardiaData[LaGuardiaData.trip_duration==900]\n",
    "\n",
    "lines = [\n",
    "    {\n",
    "        'coordinates': [\n",
    "            [shortTripsDF.pickup_longitude.iloc[index], shortTripsDF.pickup_latitude.iloc[index]],\n",
    "            [shortTripsDF.dropoff_longitude.iloc[index], shortTripsDF.dropoff_latitude.iloc[index]],\n",
    "        ],\n",
    "        'dates': [\n",
    "        str(shortTripsDF.pickup_datetime.iloc[index]),\n",
    "        str(shortTripsDF.dropoff_datetime.iloc[index])\n",
    "        ],\n",
    "        'color': 'gold'\n",
    "    }\n",
    "    for index in range(100)\n",
    "]\n",
    "features = [\n",
    "    {\n",
    "        'type': 'Feature',\n",
    "        'geometry': {\n",
    "            'type': 'LineString',\n",
    "            'coordinates': line['coordinates'],\n",
    "        },\n",
    "        'properties': {\n",
    "            'times': line['dates'],\n",
    "            'style': {\n",
    "                'color': line['color'],\n",
    "                'weight': line['weight'] if 'weight' in line else 10\n",
    "            }\n",
    "        }\n",
    "    }\n",
    "    for line in lines\n",
    "]\n",
    "\n",
    "\n",
    "plugins.TimestampedGeoJson({\n",
    "    'type': 'FeatureCollection',\n",
    "    'features': features,\n",
    "}, period='PT24H', add_last_point=True).add_to(m)\n",
    "m"
   ]
  },
  {
   "cell_type": "markdown",
   "metadata": {},
   "source": [
    "#### Correlation and density plot"
   ]
  },
  {
   "cell_type": "code",
   "execution_count": null,
   "metadata": {},
   "outputs": [],
   "source": [
    "corr = dataset\n",
    "mask=np.zeros_like(corr, dtype=np.bool)\n",
    "mask[np.triu_indices_from(mask)]=True\n",
    "f, ax = plt.subplots(figsize=(16,12))\n",
    "cmap=sns.diverging_palette(220, 10, as_cmap=True)\n",
    "sns.heatmap(corr, mask=mask, cmap =cmap, vmax=1, vmin=-1, center=0, square=True, linewidth=.5,cbar_kws={\"shrink\":.5})\n",
    "f.savefig('myimage.png', format='png', dpi=1200)\n",
    "corr =dataset.corr()\n",
    "sns.heatmap(corr, mask=np.zeros_like(corr, dtype=np.bool), cmap=sns.diverging_palette(220,10,as_cmap=True), square=True, ax=ax)"
   ]
  },
  {
   "cell_type": "markdown",
   "metadata": {},
   "source": [
    "#### Train test split "
   ]
  },
  {
   "cell_type": "code",
   "execution_count": 9,
   "metadata": {},
   "outputs": [],
   "source": [
    "dataset.drop(['dropoff_datetime','pickup_datetime','id'], axis=1, inplace=True)"
   ]
  },
  {
   "cell_type": "code",
   "execution_count": 10,
   "metadata": {},
   "outputs": [],
   "source": [
    "valid = dataset.query('trip_duration==0.001')\n",
    "del valid['trip_duration']"
   ]
  },
  {
   "cell_type": "code",
   "execution_count": 11,
   "metadata": {},
   "outputs": [],
   "source": [
    "train = dataset.query('trip_duration!=0.001')"
   ]
  },
  {
   "cell_type": "code",
   "execution_count": 12,
   "metadata": {},
   "outputs": [],
   "source": [
    "y = train['trip_duration']\n",
    "X = train.drop('trip_duration',axis=1)"
   ]
  },
  {
   "cell_type": "code",
   "execution_count": 13,
   "metadata": {},
   "outputs": [],
   "source": [
    "X_train, X_test, y_train, y_test = train_test_split(X,y, test_size=0.33, random_state=42)"
   ]
  },
  {
   "cell_type": "markdown",
   "metadata": {},
   "source": [
    "#### Simple Random Forest Regression Model "
   ]
  },
  {
   "cell_type": "code",
   "execution_count": null,
   "metadata": {},
   "outputs": [],
   "source": [
    "model_rf = RandomForestRegressor(n_estimators=50\n",
    "                                ,random_state=1\n",
    "                                #,criterion='mse'\n",
    "                                #,max_features='auto'\n",
    "                                #,max_depth=None\n",
    "                                #,min_samples_split=2\n",
    "                                #,min_impurity_decrease=0\n",
    "                                ,verbose=0)\n",
    "model_rf.fit(X_train,y_train)"
   ]
  },
  {
   "cell_type": "code",
   "execution_count": null,
   "metadata": {},
   "outputs": [],
   "source": [
    "model_rf.score(X_test,y_test)"
   ]
  },
  {
   "cell_type": "code",
   "execution_count": null,
   "metadata": {},
   "outputs": [],
   "source": []
  },
  {
   "cell_type": "markdown",
   "metadata": {},
   "source": [
    "#### Feature Importance"
   ]
  },
  {
   "cell_type": "code",
   "execution_count": null,
   "metadata": {},
   "outputs": [],
   "source": [
    "importances = pd.DataFrame({'feature':X_train.columns,'importance':np.round(model_rf.feature_importances_,3)})\n",
    "importances = importances.sort_values('importance',ascending=False).set_index('feature')\n",
    "importances.plot.bar()"
   ]
  },
  {
   "cell_type": "code",
   "execution_count": null,
   "metadata": {},
   "outputs": [],
   "source": [
    "feat_importances = pd.Series(model_rf.feature_importances_, index=X.columns)\n",
    "feat_importances.nlargest(10).plot(kind='barh')"
   ]
  },
  {
   "cell_type": "markdown",
   "metadata": {},
   "source": [
    "#### Gradient Boosting Regression"
   ]
  },
  {
   "cell_type": "code",
   "execution_count": 14,
   "metadata": {},
   "outputs": [],
   "source": [
    "X_train, X_test, y_train, y_test = train_test_split(X,y, test_size=0.33, random_state=42)"
   ]
  },
  {
   "cell_type": "code",
   "execution_count": 19,
   "metadata": {},
   "outputs": [],
   "source": [
    "params = {'n_estimators':50, 'max_depth':4, 'min_samples_split':2,'learning_rate':0.01,'loss':'ls'}\n",
    "\n",
    "model_gbm = ensemble.GradientBoostingRegressor(**params)"
   ]
  },
  {
   "cell_type": "code",
   "execution_count": 24,
   "metadata": {},
   "outputs": [
    {
     "name": "stdout",
     "output_type": "stream",
     "text": [
      "MSE: 10027706.6901\n"
     ]
    }
   ],
   "source": [
    "model_gbm.fit(X_train, y_train)\n",
    "mse = mean_squared_error(y_test, model_gbm.predict(X_test))\n",
    "print(\"MSE: %.4f\" % mse)"
   ]
  },
  {
   "cell_type": "code",
   "execution_count": 27,
   "metadata": {},
   "outputs": [
    {
     "data": {
      "text/plain": [
       "Text(0,0.5,'Deviance')"
      ]
     },
     "execution_count": 27,
     "metadata": {},
     "output_type": "execute_result"
    },
    {
     "data": {
      "image/png": "[encoded data removed]",
      "text/plain": [
       "<matplotlib.figure.Figure at 0x287831c0940>"
      ]
     },
     "metadata": {},
     "output_type": "display_data"
    }
   ],
   "source": [
    "# Plot training deviance\n",
    "# compute test set deviance\n",
    "test_score = np.zeros((params['n_estimators'],), dtype=np.float64)\n",
    "\n",
    "for i, y_pred in enumerate(model_gbm.staged_predict(X_test)):\n",
    "    test_score[i] = model_gbm.loss_(y_test, y_pred)\n",
    "\n",
    "plt.figure(figsize=(12, 6))\n",
    "plt.subplot(1, 2, 1)\n",
    "plt.title('Deviance')\n",
    "plt.plot(np.arange(params['n_estimators']) + 1, model_gbm.train_score_, 'b-',\n",
    "         label='Training Set Deviance')\n",
    "plt.plot(np.arange(params['n_estimators']) + 1, test_score, 'r-',\n",
    "         label='Test Set Deviance')\n",
    "plt.legend(loc='upper right')\n",
    "plt.xlabel('Boosting Iterations')\n",
    "plt.ylabel('Deviance')"
   ]
  },
  {
   "cell_type": "code",
   "execution_count": 33,
   "metadata": {},
   "outputs": [
    {
     "data": {
      "image/png": "[encoded data removed]",
      "text/plain": [
       "<matplotlib.figure.Figure at 0x287847920b8>"
      ]
     },
     "metadata": {},
     "output_type": "display_data"
    }
   ],
   "source": [
    "# Plot feature importance\n",
    "feature_importance = model_gbm.feature_importances_\n",
    "# make importances relative to max importance\n",
    "feature_importance = 100.0 * (feature_importance / feature_importance.max())\n",
    "sorted_idx = np.argsort(feature_importance)\n",
    "pos = np.arange(sorted_idx.shape[0]) + .5\n",
    "plt.subplot(1, 2, 2)\n",
    "plt.barh(pos, feature_importance[sorted_idx], align='center')\n",
    "plt.yticks(pos, X.columns[sorted_idx])\n",
    "plt.xlabel('Relative Importance')\n",
    "plt.title('Variable Importance')\n",
    "plt.show()"
   ]
  },
  {
   "cell_type": "code",
   "execution_count": null,
   "metadata": {},
   "outputs": [],
   "source": []
  }
 ],
 "metadata": {
  "kernelspec": {
   "display_name": "Python 3",
   "language": "python",
   "name": "python3"
  },
  "language_info": {
   "codemirror_mode": {
    "name": "ipython",
    "version": 3
   },
   "file_extension": ".py",
   "mimetype": "text/x-python",
   "name": "python",
   "nbconvert_exporter": "python",
   "pygments_lexer": "ipython3",
   "version": "3.7.0"
  }
 },
 "nbformat": 4,
 "nbformat_minor": 2
}
